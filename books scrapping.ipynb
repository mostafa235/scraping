{
 "cells": [
  {
   "cell_type": "code",
   "execution_count": 1,
   "metadata": {},
   "outputs": [],
   "source": [
    "import requests\n",
    "from bs4 import BeautifulSoup\n",
    "import csv\n",
    "from functools import reduce\n",
    "\n",
    "domain='https://books.toscrape.com/'\n",
    "soup=BeautifulSoup(requests.get(domain).text,'html.parser')\n",
    "\n",
    "rates_dic={'Zero':0,'One':1,'Two':2,'Three':3,'Four':4,'Five':5}\n",
    "\n",
    "\n",
    "with open('books.csv','w',newline='',encoding='utf-8') as f:\n",
    "    writer=csv.writer(f)\n",
    "    writer.writerow(['Name','Rate','Price','Category'])\n",
    "    \n",
    "    \n",
    "    for li_cat in soup.find('div',attrs={'class':'side_categories'}).find('ul',attrs={\"class\":\"nav nav-list\"}).find('ul').find_all('li'):\n",
    "        soup_cat=BeautifulSoup(requests.get(domain+li_cat.find('a').get('href')).text,'html.parser')\n",
    "        category=li_cat.get_text().strip()\n",
    "        for li in soup.find_all('article',attrs={'class':'product_pod'}):\n",
    "            name=li.find('h3').find('a').get('title')\n",
    "            rate=rates_dic[li.find('p').get('class')[1]]\n",
    "            price=float(li.find('p',attrs={'class':'price_color'}).get_text()[2:])\n",
    "            writer.writerow([name,rate,price,category])\n",
    "            \n",
    "        \n",
    "        url=domain+li_cat.find('a').get('href')\n",
    "        \n",
    "        \n",
    "        while (soup_cat.find('li',attrs={'class':'next'})):\n",
    "            soup_cat=BeautifulSoup(requests.get(url[:url.rfind('/')+1]+soup.find('li',attrs={'class':'next'}).find('a').get('href')).text,'html.parser')\n",
    "            \n",
    "            for li in soup.find_all('article',attrs={'class':'product_pod'}):\n",
    "                name=li.find('h3').find('a').get('title')\n",
    "                rate=rates_dic[li.find('p').get('class')[1]]\n",
    "                price=float(li.find('p',attrs={'class':'price_color'}).get_text()[2:])\n",
    "                writer.writerow([name,rate,price,category])\n",
    "            \n",
    "            \n",
    "    "
   ]
  },
  {
   "cell_type": "code",
   "execution_count": 1,
   "metadata": {},
   "outputs": [],
   "source": [
    "import  sqlite3"
   ]
  },
  {
   "cell_type": "code",
   "execution_count": null,
   "metadata": {},
   "outputs": [],
   "source": []
  }
 ],
 "metadata": {
  "kernelspec": {
   "display_name": "Python 3",
   "language": "python",
   "name": "python3"
  },
  "language_info": {
   "codemirror_mode": {
    "name": "ipython",
    "version": 3
   },
   "file_extension": ".py",
   "mimetype": "text/x-python",
   "name": "python",
   "nbconvert_exporter": "python",
   "pygments_lexer": "ipython3",
   "version": "3.7.6"
  }
 },
 "nbformat": 4,
 "nbformat_minor": 5
}
